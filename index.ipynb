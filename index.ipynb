{
 "cells": [
  {
   "cell_type": "markdown",
   "id": "8f55016a",
   "metadata": {},
   "source": [
    "# Project 2: More Data, More Visualizations"
   ]
  },
  {
   "cell_type": "markdown",
   "id": "b75cfd5d",
   "metadata": {},
   "source": [
    "For this project, the students will:\n",
    "* find a data set of their choosing\n",
    "* get approval from the instructor to use that data set\n",
    "* upon approval, find another (related) data set\n",
    "* join the new data set with the original one to create an \"enriched\" data set\n",
    "* perform an open-ended Exploratory Data Analysis (EDA) on the enriched data set"
   ]
  },
  {
   "cell_type": "markdown",
   "id": "5badf739",
   "metadata": {},
   "source": [
    "Regarding the last bullet, \"open-ended\" means the student chooses the EDA that is performed. The student should have at least three types of data analysis (e.g., mean, standard deviation) and at least three types of graphs (e.g., historgram, bar graph). The student will explain why those variables were chosen for numerical or graphical analysis. Finally, the student will make note of any unusual values for any variable that is analyzed."
   ]
  },
  {
   "cell_type": "code",
   "execution_count": 171,
   "id": "4083cfbe",
   "metadata": {},
   "outputs": [],
   "source": [
    "import numpy as np\n",
    "import pandas as pd\n",
    "import matplotlib.pyplot as plt\n",
    "import seaborn as sns\n"
   ]
  },
  {
   "cell_type": "code",
   "execution_count": 172,
   "id": "68f65e9a",
   "metadata": {},
   "outputs": [
    {
     "name": "stdout",
     "output_type": "stream",
     "text": [
      "          Activation Date  Account ID  Loan Amount              Branch  \\\n",
      "0     2022-07-27 07:33:52     4438845       3000.0             MOMBASA   \n",
      "1     2019-01-08 11:33:31     8046786       3000.0  Applewood B Listed   \n",
      "2     2021-05-17 13:49:05     5279090       3000.0           WESTLANDS   \n",
      "3     2019-03-08 13:40:18     9056511       3000.0                MERU   \n",
      "4     2023-05-20 05:53:48     9549279       3000.0               BOMET   \n",
      "...                   ...         ...          ...                 ...   \n",
      "85661 2017-02-10 00:00:00     4008581     170000.0              NAKURU   \n",
      "85662 2017-02-23 00:00:00     8008580     230000.0          Apple Wood   \n",
      "85663 2017-03-23 00:00:00     7008570     475000.0              NAKURU   \n",
      "85664 2017-02-07 00:00:00     3001334     104000.0               Legal   \n",
      "85665 2022-04-26 14:55:41     9748954     180000.0           KITENGELA   \n",
      "\n",
      "      Gender (Client)  \n",
      "0                Male  \n",
      "1                Male  \n",
      "2                Male  \n",
      "3                Male  \n",
      "4                Male  \n",
      "...               ...  \n",
      "85661            Male  \n",
      "85662            Male  \n",
      "85663            Male  \n",
      "85664            Male  \n",
      "85665            Male  \n",
      "\n",
      "[85666 rows x 5 columns]\n",
      "       Account ID         Account State  Birth Date (Client)\n",
      "0         4438845                Closed  1980-02-02 00:00:00\n",
      "1         8046786                Closed  1978-01-01 00:00:00\n",
      "2         5279090                Closed  1999-05-04 00:00:00\n",
      "3         9056511                Closed  1983-01-01 00:00:00\n",
      "4         9549279                Closed  1992-02-01 00:00:00\n",
      "...           ...                   ...                  ...\n",
      "85661     4008581                Closed  1966-08-17 00:00:00\n",
      "85662     8008580                Closed  1982-08-16 00:00:00\n",
      "85663     7008570                Closed  1978-01-01 00:00:00\n",
      "85664     3001334  Closed (Written Off)  1960-01-01 00:00:00\n",
      "85665     9748954                Closed  1980-01-01 00:00:00\n",
      "\n",
      "[85666 rows x 3 columns]\n"
     ]
    }
   ],
   "source": [
    "#Importing work data\n",
    "df1= pd.read_excel(\"Johnson.gwonda project data.xlsx\")\n",
    "df2= pd.read_excel(\"Additional Project Data.xlsx\")\n",
    "\n",
    "print(df1)\n",
    "print(df2)\n"
   ]
  },
  {
   "cell_type": "code",
   "execution_count": 173,
   "id": "9db51130",
   "metadata": {},
   "outputs": [
    {
     "data": {
      "text/html": [
       "<div>\n",
       "<style scoped>\n",
       "    .dataframe tbody tr th:only-of-type {\n",
       "        vertical-align: middle;\n",
       "    }\n",
       "\n",
       "    .dataframe tbody tr th {\n",
       "        vertical-align: top;\n",
       "    }\n",
       "\n",
       "    .dataframe thead th {\n",
       "        text-align: right;\n",
       "    }\n",
       "</style>\n",
       "<table border=\"1\" class=\"dataframe\">\n",
       "  <thead>\n",
       "    <tr style=\"text-align: right;\">\n",
       "      <th></th>\n",
       "      <th>Activation Date</th>\n",
       "      <th>Account ID</th>\n",
       "      <th>Loan Amount</th>\n",
       "      <th>Branch</th>\n",
       "      <th>Gender (Client)</th>\n",
       "      <th>Account State</th>\n",
       "      <th>Birth Date (Client)</th>\n",
       "    </tr>\n",
       "  </thead>\n",
       "  <tbody>\n",
       "    <tr>\n",
       "      <th>0</th>\n",
       "      <td>2022-07-27 07:33:52</td>\n",
       "      <td>4438845</td>\n",
       "      <td>3000.0</td>\n",
       "      <td>MOMBASA</td>\n",
       "      <td>Male</td>\n",
       "      <td>Closed</td>\n",
       "      <td>1980-02-02 00:00:00</td>\n",
       "    </tr>\n",
       "    <tr>\n",
       "      <th>1</th>\n",
       "      <td>2019-01-08 11:33:31</td>\n",
       "      <td>8046786</td>\n",
       "      <td>3000.0</td>\n",
       "      <td>Applewood B Listed</td>\n",
       "      <td>Male</td>\n",
       "      <td>Closed</td>\n",
       "      <td>1978-01-01 00:00:00</td>\n",
       "    </tr>\n",
       "    <tr>\n",
       "      <th>2</th>\n",
       "      <td>2021-05-17 13:49:05</td>\n",
       "      <td>5279090</td>\n",
       "      <td>3000.0</td>\n",
       "      <td>WESTLANDS</td>\n",
       "      <td>Male</td>\n",
       "      <td>Closed</td>\n",
       "      <td>1999-05-04 00:00:00</td>\n",
       "    </tr>\n",
       "    <tr>\n",
       "      <th>3</th>\n",
       "      <td>2019-03-08 13:40:18</td>\n",
       "      <td>9056511</td>\n",
       "      <td>3000.0</td>\n",
       "      <td>MERU</td>\n",
       "      <td>Male</td>\n",
       "      <td>Closed</td>\n",
       "      <td>1983-01-01 00:00:00</td>\n",
       "    </tr>\n",
       "    <tr>\n",
       "      <th>4</th>\n",
       "      <td>2023-05-20 05:53:48</td>\n",
       "      <td>9549279</td>\n",
       "      <td>3000.0</td>\n",
       "      <td>BOMET</td>\n",
       "      <td>Male</td>\n",
       "      <td>Closed</td>\n",
       "      <td>1992-02-01 00:00:00</td>\n",
       "    </tr>\n",
       "  </tbody>\n",
       "</table>\n",
       "</div>"
      ],
      "text/plain": [
       "      Activation Date  Account ID  Loan Amount              Branch  \\\n",
       "0 2022-07-27 07:33:52     4438845       3000.0             MOMBASA   \n",
       "1 2019-01-08 11:33:31     8046786       3000.0  Applewood B Listed   \n",
       "2 2021-05-17 13:49:05     5279090       3000.0           WESTLANDS   \n",
       "3 2019-03-08 13:40:18     9056511       3000.0                MERU   \n",
       "4 2023-05-20 05:53:48     9549279       3000.0               BOMET   \n",
       "\n",
       "  Gender (Client) Account State  Birth Date (Client)  \n",
       "0            Male        Closed  1980-02-02 00:00:00  \n",
       "1            Male        Closed  1978-01-01 00:00:00  \n",
       "2            Male        Closed  1999-05-04 00:00:00  \n",
       "3            Male        Closed  1983-01-01 00:00:00  \n",
       "4            Male        Closed  1992-02-01 00:00:00  "
      ]
     },
     "execution_count": 173,
     "metadata": {},
     "output_type": "execute_result"
    }
   ],
   "source": [
    "#Joined Data\n",
    "Product_sales= pd.merge(df1,df2, on='Account ID')\n",
    "Product_sales.iloc[:5]"
   ]
  },
  {
   "cell_type": "code",
   "execution_count": 174,
   "id": "a902de12",
   "metadata": {},
   "outputs": [
    {
     "data": {
      "text/plain": [
       "Activation Date         0\n",
       "Account ID              0\n",
       "Loan Amount             0\n",
       "Branch                  0\n",
       "Gender (Client)         0\n",
       "Account State           0\n",
       "Birth Date (Client)    15\n",
       "dtype: int64"
      ]
     },
     "execution_count": 174,
     "metadata": {},
     "output_type": "execute_result"
    }
   ],
   "source": [
    "#Search for missing values\n",
    "Product_sales.isnull().sum()"
   ]
  },
  {
   "cell_type": "code",
   "execution_count": 175,
   "id": "ca15e328",
   "metadata": {},
   "outputs": [
    {
     "data": {
      "text/plain": [
       "3"
      ]
     },
     "execution_count": 175,
     "metadata": {},
     "output_type": "execute_result"
    }
   ],
   "source": [
    "#Search for duplicates\n",
    "Product_sales.duplicated().sum()"
   ]
  },
  {
   "cell_type": "code",
   "execution_count": 176,
   "id": "77ba42c0",
   "metadata": {},
   "outputs": [
    {
     "data": {
      "text/plain": [
       "0"
      ]
     },
     "execution_count": 176,
     "metadata": {},
     "output_type": "execute_result"
    }
   ],
   "source": [
    "#Dropping Duplicates\n",
    "Product_sales.drop_duplicates(inplace=True)\n",
    "Product_sales.duplicated().sum()\n"
   ]
  },
  {
   "cell_type": "code",
   "execution_count": 177,
   "id": "efbd5be9",
   "metadata": {},
   "outputs": [
    {
     "data": {
      "text/plain": [
       "Activation Date         0\n",
       "Account ID              0\n",
       "Loan Amount             0\n",
       "Branch                  0\n",
       "Gender (Client)         0\n",
       "Account State           0\n",
       "Birth Date (Client)    16\n",
       "age                    16\n",
       "dtype: int64"
      ]
     },
     "execution_count": 177,
     "metadata": {},
     "output_type": "execute_result"
    }
   ],
   "source": [
    "#Calculating Client Age\n",
    "import datetime as DT\n",
    "import io\n",
    "Product_sales['Birth Date (Client)'] = pd.to_datetime(Product_sales['Birth Date (Client)'], errors='coerce')\n",
    "now = pd.Timestamp('now')\n",
    "Product_sales['age'] = (now - Product_sales['Birth Date (Client)']).astype('<m8[Y]') \n",
    "Product_sales.isna().sum()"
   ]
  },
  {
   "cell_type": "code",
   "execution_count": 178,
   "id": "0d87a225",
   "metadata": {},
   "outputs": [
    {
     "data": {
      "text/html": [
       "<div>\n",
       "<style scoped>\n",
       "    .dataframe tbody tr th:only-of-type {\n",
       "        vertical-align: middle;\n",
       "    }\n",
       "\n",
       "    .dataframe tbody tr th {\n",
       "        vertical-align: top;\n",
       "    }\n",
       "\n",
       "    .dataframe thead th {\n",
       "        text-align: right;\n",
       "    }\n",
       "</style>\n",
       "<table border=\"1\" class=\"dataframe\">\n",
       "  <thead>\n",
       "    <tr style=\"text-align: right;\">\n",
       "      <th></th>\n",
       "      <th>Activation Date</th>\n",
       "      <th>Account ID</th>\n",
       "      <th>Loan Amount</th>\n",
       "      <th>Branch</th>\n",
       "      <th>Gender (Client)</th>\n",
       "      <th>Account State</th>\n",
       "      <th>Birth Date (Client)</th>\n",
       "      <th>age</th>\n",
       "      <th>age_set</th>\n",
       "    </tr>\n",
       "  </thead>\n",
       "  <tbody>\n",
       "    <tr>\n",
       "      <th>0</th>\n",
       "      <td>2022-07-27 07:33:52</td>\n",
       "      <td>4438845</td>\n",
       "      <td>3000.0</td>\n",
       "      <td>MOMBASA</td>\n",
       "      <td>Male</td>\n",
       "      <td>Closed</td>\n",
       "      <td>1980-02-02</td>\n",
       "      <td>43.0</td>\n",
       "      <td>41-50 years</td>\n",
       "    </tr>\n",
       "    <tr>\n",
       "      <th>1</th>\n",
       "      <td>2019-01-08 11:33:31</td>\n",
       "      <td>8046786</td>\n",
       "      <td>3000.0</td>\n",
       "      <td>Applewood B Listed</td>\n",
       "      <td>Male</td>\n",
       "      <td>Closed</td>\n",
       "      <td>1978-01-01</td>\n",
       "      <td>45.0</td>\n",
       "      <td>41-50 years</td>\n",
       "    </tr>\n",
       "    <tr>\n",
       "      <th>2</th>\n",
       "      <td>2021-05-17 13:49:05</td>\n",
       "      <td>5279090</td>\n",
       "      <td>3000.0</td>\n",
       "      <td>WESTLANDS</td>\n",
       "      <td>Male</td>\n",
       "      <td>Closed</td>\n",
       "      <td>1999-05-04</td>\n",
       "      <td>24.0</td>\n",
       "      <td>18-30 years</td>\n",
       "    </tr>\n",
       "    <tr>\n",
       "      <th>3</th>\n",
       "      <td>2019-03-08 13:40:18</td>\n",
       "      <td>9056511</td>\n",
       "      <td>3000.0</td>\n",
       "      <td>MERU</td>\n",
       "      <td>Male</td>\n",
       "      <td>Closed</td>\n",
       "      <td>1983-01-01</td>\n",
       "      <td>40.0</td>\n",
       "      <td>31-40 years</td>\n",
       "    </tr>\n",
       "    <tr>\n",
       "      <th>4</th>\n",
       "      <td>2023-05-20 05:53:48</td>\n",
       "      <td>9549279</td>\n",
       "      <td>3000.0</td>\n",
       "      <td>BOMET</td>\n",
       "      <td>Male</td>\n",
       "      <td>Closed</td>\n",
       "      <td>1992-02-01</td>\n",
       "      <td>31.0</td>\n",
       "      <td>31-40 years</td>\n",
       "    </tr>\n",
       "  </tbody>\n",
       "</table>\n",
       "</div>"
      ],
      "text/plain": [
       "      Activation Date  Account ID  Loan Amount              Branch  \\\n",
       "0 2022-07-27 07:33:52     4438845       3000.0             MOMBASA   \n",
       "1 2019-01-08 11:33:31     8046786       3000.0  Applewood B Listed   \n",
       "2 2021-05-17 13:49:05     5279090       3000.0           WESTLANDS   \n",
       "3 2019-03-08 13:40:18     9056511       3000.0                MERU   \n",
       "4 2023-05-20 05:53:48     9549279       3000.0               BOMET   \n",
       "\n",
       "  Gender (Client) Account State Birth Date (Client)   age      age_set  \n",
       "0            Male        Closed          1980-02-02  43.0  41-50 years  \n",
       "1            Male        Closed          1978-01-01  45.0  41-50 years  \n",
       "2            Male        Closed          1999-05-04  24.0  18-30 years  \n",
       "3            Male        Closed          1983-01-01  40.0  31-40 years  \n",
       "4            Male        Closed          1992-02-01  31.0  31-40 years  "
      ]
     },
     "execution_count": 178,
     "metadata": {},
     "output_type": "execute_result"
    }
   ],
   "source": [
    "#Classifing Age groups\n",
    "\n",
    "def age_set(row):\n",
    "\n",
    "    if row <= 30:\n",
    "        result = '18-30 years'\n",
    "    elif row <= 40:\n",
    "        result = '31-40 years'\n",
    "    elif row <= 50:\n",
    "        result = '41-50 years'\n",
    "    else:\n",
    "        result = 'Above 50 years'\n",
    "    return result\n",
    "\n",
    "Product_sales['age_set'] = Product_sales['age'].apply(age_set)\n",
    "Product_sales.iloc[:5]\n"
   ]
  },
  {
   "cell_type": "code",
   "execution_count": 179,
   "id": "b64ee291",
   "metadata": {},
   "outputs": [
    {
     "data": {
      "text/html": [
       "<div>\n",
       "<style scoped>\n",
       "    .dataframe tbody tr th:only-of-type {\n",
       "        vertical-align: middle;\n",
       "    }\n",
       "\n",
       "    .dataframe tbody tr th {\n",
       "        vertical-align: top;\n",
       "    }\n",
       "\n",
       "    .dataframe thead th {\n",
       "        text-align: right;\n",
       "    }\n",
       "</style>\n",
       "<table border=\"1\" class=\"dataframe\">\n",
       "  <thead>\n",
       "    <tr style=\"text-align: right;\">\n",
       "      <th></th>\n",
       "      <th>Activation Date</th>\n",
       "      <th>Account ID</th>\n",
       "      <th>Loan Amount</th>\n",
       "      <th>Branch</th>\n",
       "      <th>Gender (Client)</th>\n",
       "      <th>Account State</th>\n",
       "      <th>Birth Date (Client)</th>\n",
       "      <th>age</th>\n",
       "      <th>age_set</th>\n",
       "      <th>Loan Class</th>\n",
       "    </tr>\n",
       "  </thead>\n",
       "  <tbody>\n",
       "    <tr>\n",
       "      <th>0</th>\n",
       "      <td>2022-07-27 07:33:52</td>\n",
       "      <td>4438845</td>\n",
       "      <td>3000.0</td>\n",
       "      <td>MOMBASA</td>\n",
       "      <td>Male</td>\n",
       "      <td>Closed</td>\n",
       "      <td>1980-02-02</td>\n",
       "      <td>43.0</td>\n",
       "      <td>41-50 years</td>\n",
       "      <td>Less than 50K</td>\n",
       "    </tr>\n",
       "    <tr>\n",
       "      <th>1</th>\n",
       "      <td>2019-01-08 11:33:31</td>\n",
       "      <td>8046786</td>\n",
       "      <td>3000.0</td>\n",
       "      <td>Applewood B Listed</td>\n",
       "      <td>Male</td>\n",
       "      <td>Closed</td>\n",
       "      <td>1978-01-01</td>\n",
       "      <td>45.0</td>\n",
       "      <td>41-50 years</td>\n",
       "      <td>Less than 50K</td>\n",
       "    </tr>\n",
       "    <tr>\n",
       "      <th>2</th>\n",
       "      <td>2021-05-17 13:49:05</td>\n",
       "      <td>5279090</td>\n",
       "      <td>3000.0</td>\n",
       "      <td>WESTLANDS</td>\n",
       "      <td>Male</td>\n",
       "      <td>Closed</td>\n",
       "      <td>1999-05-04</td>\n",
       "      <td>24.0</td>\n",
       "      <td>18-30 years</td>\n",
       "      <td>Less than 50K</td>\n",
       "    </tr>\n",
       "    <tr>\n",
       "      <th>3</th>\n",
       "      <td>2019-03-08 13:40:18</td>\n",
       "      <td>9056511</td>\n",
       "      <td>3000.0</td>\n",
       "      <td>MERU</td>\n",
       "      <td>Male</td>\n",
       "      <td>Closed</td>\n",
       "      <td>1983-01-01</td>\n",
       "      <td>40.0</td>\n",
       "      <td>31-40 years</td>\n",
       "      <td>Less than 50K</td>\n",
       "    </tr>\n",
       "    <tr>\n",
       "      <th>4</th>\n",
       "      <td>2023-05-20 05:53:48</td>\n",
       "      <td>9549279</td>\n",
       "      <td>3000.0</td>\n",
       "      <td>BOMET</td>\n",
       "      <td>Male</td>\n",
       "      <td>Closed</td>\n",
       "      <td>1992-02-01</td>\n",
       "      <td>31.0</td>\n",
       "      <td>31-40 years</td>\n",
       "      <td>Less than 50K</td>\n",
       "    </tr>\n",
       "  </tbody>\n",
       "</table>\n",
       "</div>"
      ],
      "text/plain": [
       "      Activation Date  Account ID  Loan Amount              Branch  \\\n",
       "0 2022-07-27 07:33:52     4438845       3000.0             MOMBASA   \n",
       "1 2019-01-08 11:33:31     8046786       3000.0  Applewood B Listed   \n",
       "2 2021-05-17 13:49:05     5279090       3000.0           WESTLANDS   \n",
       "3 2019-03-08 13:40:18     9056511       3000.0                MERU   \n",
       "4 2023-05-20 05:53:48     9549279       3000.0               BOMET   \n",
       "\n",
       "  Gender (Client) Account State Birth Date (Client)   age      age_set  \\\n",
       "0            Male        Closed          1980-02-02  43.0  41-50 years   \n",
       "1            Male        Closed          1978-01-01  45.0  41-50 years   \n",
       "2            Male        Closed          1999-05-04  24.0  18-30 years   \n",
       "3            Male        Closed          1983-01-01  40.0  31-40 years   \n",
       "4            Male        Closed          1992-02-01  31.0  31-40 years   \n",
       "\n",
       "      Loan Class  \n",
       "0  Less than 50K  \n",
       "1  Less than 50K  \n",
       "2  Less than 50K  \n",
       "3  Less than 50K  \n",
       "4  Less than 50K  "
      ]
     },
     "execution_count": 179,
     "metadata": {},
     "output_type": "execute_result"
    }
   ],
   "source": [
    "#Classifing Loan groups\n",
    "\n",
    "def Loan_class(row):\n",
    "\n",
    "    if row <= 50000:\n",
    "        result = 'Less than 50K'\n",
    "    elif row <= 250000:\n",
    "        result = '51K-250K'\n",
    "    elif row <= 750000:\n",
    "        result = '251K-750K'\n",
    "    elif row <= 1000000:\n",
    "        result = '751K-1M'\n",
    "    elif row <= 1500000:\n",
    "        result = '1M-1.5M'\n",
    "    else:\n",
    "        result = 'Above 1.5M'\n",
    "    return result\n",
    "\n",
    "Product_sales['Loan Class'] = Product_sales['Loan Amount'].apply(Loan_class)\n",
    "Product_sales.iloc[:5]"
   ]
  },
  {
   "cell_type": "code",
   "execution_count": 180,
   "id": "e06c2c40",
   "metadata": {},
   "outputs": [],
   "source": [
    "#Basic look at data with various metrics\n",
    "\n",
    "Mean_age= Product_sales['age'].mean()\n",
    "Mean_Loan_Amount= Product_sales['Loan Amount'].mean()\n",
    "Total_Sales = Product_sales['Loan Amount'].sum()\n",
    "Max_Age = Product_sales['age'].max()\n",
    "Min_Age = Product_sales['age'].min()\n",
    "Std_dev =Product_sales['Loan Amount'].std()\n",
    "\n"
   ]
  },
  {
   "cell_type": "code",
   "execution_count": 181,
   "id": "be9ac95c",
   "metadata": {},
   "outputs": [
    {
     "name": "stdout",
     "output_type": "stream",
     "text": [
      "45.34133830459803\n",
      "231488.57314231468\n",
      "19995751459.46\n",
      "123.0\n",
      "-63.0\n",
      "Male      69582\n",
      "Female    16797\n",
      "Name: Gender (Client), dtype: int64\n",
      "322057.7581600535\n"
     ]
    }
   ],
   "source": [
    "\n",
    "print(Mean_age)\n",
    "print(Mean_Loan_Amount)\n",
    "print(Total_Sales)\n",
    "print(Max_Age)\n",
    "print(Min_Age)\n",
    "print(Product_sales['Gender (Client)'].value_counts())\n",
    "print(Std_dev)"
   ]
  },
  {
   "cell_type": "markdown",
   "id": "a693c49f",
   "metadata": {},
   "source": [
    "There exists wrong data in the Birth date column thus skewing the data. Data clean up is recommended."
   ]
  },
  {
   "cell_type": "code",
   "execution_count": 182,
   "id": "8665dd11",
   "metadata": {},
   "outputs": [
    {
     "data": {
      "text/html": [
       "<div>\n",
       "<style scoped>\n",
       "    .dataframe tbody tr th:only-of-type {\n",
       "        vertical-align: middle;\n",
       "    }\n",
       "\n",
       "    .dataframe tbody tr th {\n",
       "        vertical-align: top;\n",
       "    }\n",
       "\n",
       "    .dataframe thead th {\n",
       "        text-align: right;\n",
       "    }\n",
       "</style>\n",
       "<table border=\"1\" class=\"dataframe\">\n",
       "  <thead>\n",
       "    <tr style=\"text-align: right;\">\n",
       "      <th></th>\n",
       "      <th>Branch</th>\n",
       "      <th>Total Loan Amount</th>\n",
       "      <th>Average Loan Amount</th>\n",
       "      <th>Count of Account ID</th>\n",
       "    </tr>\n",
       "  </thead>\n",
       "  <tbody>\n",
       "    <tr>\n",
       "      <th>0</th>\n",
       "      <td>APPLE WOOD</td>\n",
       "      <td>7.026857e+06</td>\n",
       "      <td>250959.185714</td>\n",
       "      <td>28</td>\n",
       "    </tr>\n",
       "    <tr>\n",
       "      <th>1</th>\n",
       "      <td>APPLEWOOD</td>\n",
       "      <td>2.093704e+08</td>\n",
       "      <td>228820.096710</td>\n",
       "      <td>915</td>\n",
       "    </tr>\n",
       "    <tr>\n",
       "      <th>2</th>\n",
       "      <td>Apple Wood</td>\n",
       "      <td>1.662905e+09</td>\n",
       "      <td>250853.117161</td>\n",
       "      <td>6629</td>\n",
       "    </tr>\n",
       "    <tr>\n",
       "      <th>3</th>\n",
       "      <td>Applewood B Listed</td>\n",
       "      <td>1.143533e+09</td>\n",
       "      <td>291494.610622</td>\n",
       "      <td>3923</td>\n",
       "    </tr>\n",
       "    <tr>\n",
       "      <th>4</th>\n",
       "      <td>BOMET</td>\n",
       "      <td>5.631522e+07</td>\n",
       "      <td>204782.603527</td>\n",
       "      <td>275</td>\n",
       "    </tr>\n",
       "  </tbody>\n",
       "</table>\n",
       "</div>"
      ],
      "text/plain": [
       "               Branch  Total Loan Amount  Average Loan Amount  \\\n",
       "0          APPLE WOOD       7.026857e+06        250959.185714   \n",
       "1           APPLEWOOD       2.093704e+08        228820.096710   \n",
       "2          Apple Wood       1.662905e+09        250853.117161   \n",
       "3  Applewood B Listed       1.143533e+09        291494.610622   \n",
       "4               BOMET       5.631522e+07        204782.603527   \n",
       "\n",
       "   Count of Account ID  \n",
       "0                   28  \n",
       "1                  915  \n",
       "2                 6629  \n",
       "3                 3923  \n",
       "4                  275  "
      ]
     },
     "execution_count": 182,
     "metadata": {},
     "output_type": "execute_result"
    }
   ],
   "source": [
    "\n",
    "# Group by \"Branch\" and calculate total loan amount, count of Account ID, and average loan amount\n",
    "summary_table = Product_sales.groupby('Branch').agg({\n",
    "    'Loan Amount': ['sum', 'mean'],\n",
    "    'Account ID': 'count'\n",
    "}).reset_index()\n",
    "\n",
    "# Flatten multi-level columns\n",
    "summary_table.columns = ['Branch', 'Total Loan Amount', 'Average Loan Amount', 'Count of Account ID']\n",
    "\n",
    "# Display the summary table\n",
    "summary_table.iloc[:5]"
   ]
  },
  {
   "cell_type": "code",
   "execution_count": null,
   "id": "7877480a",
   "metadata": {},
   "outputs": [],
   "source": []
  },
  {
   "cell_type": "code",
   "execution_count": 183,
   "id": "daf928ba",
   "metadata": {},
   "outputs": [
    {
     "name": "stdout",
     "output_type": "stream",
     "text": [
      "   Gender  Total Loan Amount  Average Loan Amount  Count of Account ID\n",
      "0  Female       3.873372e+09        230599.024303                16797\n",
      "1    Male       1.612238e+10        231703.309020                69582\n"
     ]
    }
   ],
   "source": [
    "# Group by \"Gender (Client)\" and calculate total loan amount, count of Account ID, and average loan amount\n",
    "summary_table_2 = Product_sales.groupby('Gender (Client)').agg({\n",
    "    'Loan Amount': ['sum', 'mean'],\n",
    "    'Account ID': 'count'\n",
    "}).reset_index()\n",
    "\n",
    "# Flatten multi-level columns\n",
    "summary_table_2.columns = ['Gender', 'Total Loan Amount', 'Average Loan Amount', 'Count of Account ID']\n",
    "\n",
    "# Display the summary table\n",
    "print(summary_table_2)"
   ]
  },
  {
   "cell_type": "code",
   "execution_count": 184,
   "id": "e7d122e9",
   "metadata": {},
   "outputs": [
    {
     "data": {
      "text/plain": [
       "Text(0.5, 1.0, 'Distribution of Age Sets with Data Labels')"
      ]
     },
     "execution_count": 184,
     "metadata": {},
     "output_type": "execute_result"
    },
    {
     "data": {
      "image/png": "[encoded data removed]",
      "text/plain": [
       "<Figure size 1080x432 with 1 Axes>"
      ]
     },
     "metadata": {},
     "output_type": "display_data"
    }
   ],
   "source": [
    "\n",
    "# Group by \"age_set\" and count the occurrences\n",
    "Account_state_counts = Product_sales['Account State'].value_counts().sort_index()\n",
    "plt.figure(figsize=(15, 6))\n",
    "# Create a bar graph\n",
    "plt.bar(Account_state_counts.index, Account_state_counts)\n",
    "\n",
    "# Add data labels to each bar\n",
    "for i, value in enumerate(Account_state_counts):\n",
    "    plt.text(i, value + 0.1, str(value), ha='center', va='bottom')\n",
    "\n",
    "# Add labels and title\n",
    "plt.xlabel('Account State')\n",
    "plt.ylabel('Count')\n",
    "plt.title('Distribution of Age Sets with Data Labels')"
   ]
  },
  {
   "cell_type": "code",
   "execution_count": 185,
   "id": "677c371f",
   "metadata": {},
   "outputs": [
    {
     "data": {
      "text/plain": [
       "([0, 1, 2, 3, 4, 5],\n",
       " [Text(0, 0, 'Less than 50K'),\n",
       "  Text(1, 0, '51K-250K'),\n",
       "  Text(2, 0, '251K-750K'),\n",
       "  Text(3, 0, '751K-1M'),\n",
       "  Text(4, 0, '1M-1.5M'),\n",
       "  Text(5, 0, 'Above 1.5M')])"
      ]
     },
     "execution_count": 185,
     "metadata": {},
     "output_type": "execute_result"
    },
    {
     "data": {
      "image/png": "[encoded data removed]",
      "text/plain": [
       "<Figure size 720x432 with 1 Axes>"
      ]
     },
     "metadata": {},
     "output_type": "display_data"
    }
   ],
   "source": [
    "# Create a histogram with loan classes\n",
    "plt.figure(figsize=(10, 6))\n",
    "plt.hist(Product_sales.sort_values(by='Loan Amount')['Loan Class'], bins=10, color='blue', edgecolor='black')\n",
    "# Add labels and title\n",
    "plt.xlabel('Loan Class')\n",
    "plt.ylabel('Frequency')\n",
    "plt.title('Loan Amount Distribution')\n",
    "plt.tight_layout()\n",
    "plt.xticks(rotation=45, ha='right')"
   ]
  },
  {
   "cell_type": "markdown",
   "id": "2ce880a0",
   "metadata": {},
   "source": [
    "Majority of clients Take a facility that is below 250,000"
   ]
  },
  {
   "cell_type": "code",
   "execution_count": 186,
   "id": "84f82440",
   "metadata": {},
   "outputs": [
    {
     "data": {
      "image/png": "[encoded data removed]",
      "text/plain": [
       "<Figure size 576x576 with 1 Axes>"
      ]
     },
     "metadata": {},
     "output_type": "display_data"
    }
   ],
   "source": [
    "#Age set Pie chart\n",
    "days = Product_sales.groupby('age_set').size()\n",
    "\n",
    "sns.set()\n",
    "days.plot(kind='pie', title='Age Set', figsize=[8,8],\n",
    "          autopct=lambda p: '{:.2f}%({:.0f})'.format(p,(p/100)*days.sum()))\n",
    "plt.show()"
   ]
  },
  {
   "cell_type": "code",
   "execution_count": 187,
   "id": "5677e933",
   "metadata": {},
   "outputs": [
    {
     "data": {
      "image/png": "[encoded data removed]",
      "text/plain": [
       "<Figure size 1080x432 with 1 Axes>"
      ]
     },
     "metadata": {},
     "output_type": "display_data"
    }
   ],
   "source": [
    "# Group by \"age_set\" and count the occurrences\n",
    "age_set_counts = Product_sales['age'].value_counts().sort_index()\n",
    "plt.figure(figsize=(15, 6))\n",
    "# Create a line graph\n",
    "plt.plot(age_set_counts.index, age_set_counts, marker='o', linestyle='-')\n",
    "\n",
    "# Add labels and title\n",
    "plt.xlabel('Age Set')\n",
    "plt.ylabel('Count')\n",
    "plt.title('Distribution of Age Sets')\n",
    "\n",
    "# Show the plot\n",
    "plt.show()"
   ]
  },
  {
   "cell_type": "markdown",
   "id": "646cce5f",
   "metadata": {},
   "source": [
    "The relative clients age is between 30 and 50 Years"
   ]
  },
  {
   "cell_type": "code",
   "execution_count": 188,
   "id": "e1923c95",
   "metadata": {},
   "outputs": [
    {
     "data": {
      "image/png": "[encoded data removed]",
      "text/plain": [
       "<Figure size 720x1440 with 1 Axes>"
      ]
     },
     "metadata": {},
     "output_type": "display_data"
    }
   ],
   "source": [
    "\n",
    "gender_counts = Product_sales['Gender (Client)'].value_counts()\n",
    "plt.figure(figsize=(10, 20))\n",
    "plt.pie(gender_counts, labels=gender_counts.index, autopct='%1.1f%%', startangle=90, colors=['lightblue', 'lightcoral'])\n",
    "plt.title('Gender Distribution')\n",
    "plt.show()"
   ]
  },
  {
   "cell_type": "code",
   "execution_count": 189,
   "id": "9e731040",
   "metadata": {},
   "outputs": [
    {
     "data": {
      "image/png": "[encoded data removed]",
      "text/plain": [
       "<Figure size 1080x432 with 1 Axes>"
      ]
     },
     "metadata": {},
     "output_type": "display_data"
    }
   ],
   "source": [
    "\n",
    "# Filter the data for 'Active' and 'In arrears'\n",
    "filtered_df = Product_sales[Product_sales['Account State'].isin(['Active', 'In Arrears'])]\n",
    "\n",
    "# Create a count plot using seaborn\n",
    "plt.figure(figsize=(15, 6))\n",
    "ax=sns.countplot(x='Account State', hue='Gender (Client)', data=filtered_df, palette='pastel')\n",
    "\n",
    "for p in ax.patches:\n",
    "    ax.annotate(f'{p.get_height()}', (p.get_x() + p.get_width() / 2., p.get_height()), ha='center', va='center', xytext=(0, 10), textcoords='offset points')\n",
    "\n",
    "# Add labels and title\n",
    "plt.xlabel('Account State')\n",
    "plt.ylabel('Count')\n",
    "plt.title('Account State Distribution by Gender')\n",
    "\n",
    "# Add a legend\n",
    "plt.legend(title='Gender')\n",
    "\n",
    "# Show the plot\n",
    "plt.show()"
   ]
  },
  {
   "cell_type": "markdown",
   "id": "e9a88411",
   "metadata": {},
   "source": [
    "Male clients are the biggest number of clients. They also contribute to the highest number of delinquent clients."
   ]
  },
  {
   "cell_type": "code",
   "execution_count": 190,
   "id": "f0a9fba6",
   "metadata": {},
   "outputs": [
    {
     "data": {
      "text/html": [
       "<div>\n",
       "<style scoped>\n",
       "    .dataframe tbody tr th:only-of-type {\n",
       "        vertical-align: middle;\n",
       "    }\n",
       "\n",
       "    .dataframe tbody tr th {\n",
       "        vertical-align: top;\n",
       "    }\n",
       "\n",
       "    .dataframe thead th {\n",
       "        text-align: right;\n",
       "    }\n",
       "</style>\n",
       "<table border=\"1\" class=\"dataframe\">\n",
       "  <thead>\n",
       "    <tr style=\"text-align: right;\">\n",
       "      <th></th>\n",
       "      <th>Activation Date</th>\n",
       "      <th>Account ID</th>\n",
       "      <th>Loan Amount</th>\n",
       "      <th>Branch</th>\n",
       "      <th>Gender (Client)</th>\n",
       "      <th>Account State</th>\n",
       "      <th>Birth Date (Client)</th>\n",
       "      <th>age</th>\n",
       "      <th>age_set</th>\n",
       "      <th>Loan Class</th>\n",
       "    </tr>\n",
       "  </thead>\n",
       "  <tbody>\n",
       "    <tr>\n",
       "      <th>0</th>\n",
       "      <td>2022-07-27 07:33:52</td>\n",
       "      <td>4438845</td>\n",
       "      <td>3000.0</td>\n",
       "      <td>MOMBASA</td>\n",
       "      <td>Male</td>\n",
       "      <td>Closed</td>\n",
       "      <td>1980-02-02</td>\n",
       "      <td>43.0</td>\n",
       "      <td>41-50 years</td>\n",
       "      <td>Less than 50K</td>\n",
       "    </tr>\n",
       "    <tr>\n",
       "      <th>1</th>\n",
       "      <td>2019-01-08 11:33:31</td>\n",
       "      <td>8046786</td>\n",
       "      <td>3000.0</td>\n",
       "      <td>Applewood B Listed</td>\n",
       "      <td>Male</td>\n",
       "      <td>Closed</td>\n",
       "      <td>1978-01-01</td>\n",
       "      <td>45.0</td>\n",
       "      <td>41-50 years</td>\n",
       "      <td>Less than 50K</td>\n",
       "    </tr>\n",
       "    <tr>\n",
       "      <th>2</th>\n",
       "      <td>2021-05-17 13:49:05</td>\n",
       "      <td>5279090</td>\n",
       "      <td>3000.0</td>\n",
       "      <td>WESTLANDS</td>\n",
       "      <td>Male</td>\n",
       "      <td>Closed</td>\n",
       "      <td>1999-05-04</td>\n",
       "      <td>24.0</td>\n",
       "      <td>18-30 years</td>\n",
       "      <td>Less than 50K</td>\n",
       "    </tr>\n",
       "    <tr>\n",
       "      <th>3</th>\n",
       "      <td>2019-03-08 13:40:18</td>\n",
       "      <td>9056511</td>\n",
       "      <td>3000.0</td>\n",
       "      <td>MERU</td>\n",
       "      <td>Male</td>\n",
       "      <td>Closed</td>\n",
       "      <td>1983-01-01</td>\n",
       "      <td>40.0</td>\n",
       "      <td>31-40 years</td>\n",
       "      <td>Less than 50K</td>\n",
       "    </tr>\n",
       "    <tr>\n",
       "      <th>4</th>\n",
       "      <td>2023-05-20 05:53:48</td>\n",
       "      <td>9549279</td>\n",
       "      <td>3000.0</td>\n",
       "      <td>BOMET</td>\n",
       "      <td>Male</td>\n",
       "      <td>Closed</td>\n",
       "      <td>1992-02-01</td>\n",
       "      <td>31.0</td>\n",
       "      <td>31-40 years</td>\n",
       "      <td>Less than 50K</td>\n",
       "    </tr>\n",
       "    <tr>\n",
       "      <th>...</th>\n",
       "      <td>...</td>\n",
       "      <td>...</td>\n",
       "      <td>...</td>\n",
       "      <td>...</td>\n",
       "      <td>...</td>\n",
       "      <td>...</td>\n",
       "      <td>...</td>\n",
       "      <td>...</td>\n",
       "      <td>...</td>\n",
       "      <td>...</td>\n",
       "    </tr>\n",
       "    <tr>\n",
       "      <th>86374</th>\n",
       "      <td>2017-02-10 00:00:00</td>\n",
       "      <td>4008581</td>\n",
       "      <td>170000.0</td>\n",
       "      <td>NAKURU</td>\n",
       "      <td>Male</td>\n",
       "      <td>Closed</td>\n",
       "      <td>1966-08-17</td>\n",
       "      <td>57.0</td>\n",
       "      <td>Above 50 years</td>\n",
       "      <td>51K-250K</td>\n",
       "    </tr>\n",
       "    <tr>\n",
       "      <th>86375</th>\n",
       "      <td>2017-02-23 00:00:00</td>\n",
       "      <td>8008580</td>\n",
       "      <td>230000.0</td>\n",
       "      <td>Apple Wood</td>\n",
       "      <td>Male</td>\n",
       "      <td>Closed</td>\n",
       "      <td>1982-08-16</td>\n",
       "      <td>41.0</td>\n",
       "      <td>41-50 years</td>\n",
       "      <td>51K-250K</td>\n",
       "    </tr>\n",
       "    <tr>\n",
       "      <th>86376</th>\n",
       "      <td>2017-03-23 00:00:00</td>\n",
       "      <td>7008570</td>\n",
       "      <td>475000.0</td>\n",
       "      <td>NAKURU</td>\n",
       "      <td>Male</td>\n",
       "      <td>Closed</td>\n",
       "      <td>1978-01-01</td>\n",
       "      <td>45.0</td>\n",
       "      <td>41-50 years</td>\n",
       "      <td>251K-750K</td>\n",
       "    </tr>\n",
       "    <tr>\n",
       "      <th>86377</th>\n",
       "      <td>2017-02-07 00:00:00</td>\n",
       "      <td>3001334</td>\n",
       "      <td>104000.0</td>\n",
       "      <td>Legal</td>\n",
       "      <td>Male</td>\n",
       "      <td>Closed (Written Off)</td>\n",
       "      <td>1960-01-01</td>\n",
       "      <td>63.0</td>\n",
       "      <td>Above 50 years</td>\n",
       "      <td>51K-250K</td>\n",
       "    </tr>\n",
       "    <tr>\n",
       "      <th>86378</th>\n",
       "      <td>2022-04-26 14:55:41</td>\n",
       "      <td>9748954</td>\n",
       "      <td>180000.0</td>\n",
       "      <td>KITENGELA</td>\n",
       "      <td>Male</td>\n",
       "      <td>Closed</td>\n",
       "      <td>1980-01-01</td>\n",
       "      <td>43.0</td>\n",
       "      <td>41-50 years</td>\n",
       "      <td>51K-250K</td>\n",
       "    </tr>\n",
       "  </tbody>\n",
       "</table>\n",
       "<p>86379 rows × 10 columns</p>\n",
       "</div>"
      ],
      "text/plain": [
       "          Activation Date  Account ID  Loan Amount              Branch  \\\n",
       "0     2022-07-27 07:33:52     4438845       3000.0             MOMBASA   \n",
       "1     2019-01-08 11:33:31     8046786       3000.0  Applewood B Listed   \n",
       "2     2021-05-17 13:49:05     5279090       3000.0           WESTLANDS   \n",
       "3     2019-03-08 13:40:18     9056511       3000.0                MERU   \n",
       "4     2023-05-20 05:53:48     9549279       3000.0               BOMET   \n",
       "...                   ...         ...          ...                 ...   \n",
       "86374 2017-02-10 00:00:00     4008581     170000.0              NAKURU   \n",
       "86375 2017-02-23 00:00:00     8008580     230000.0          Apple Wood   \n",
       "86376 2017-03-23 00:00:00     7008570     475000.0              NAKURU   \n",
       "86377 2017-02-07 00:00:00     3001334     104000.0               Legal   \n",
       "86378 2022-04-26 14:55:41     9748954     180000.0           KITENGELA   \n",
       "\n",
       "      Gender (Client)         Account State Birth Date (Client)   age  \\\n",
       "0                Male                Closed          1980-02-02  43.0   \n",
       "1                Male                Closed          1978-01-01  45.0   \n",
       "2                Male                Closed          1999-05-04  24.0   \n",
       "3                Male                Closed          1983-01-01  40.0   \n",
       "4                Male                Closed          1992-02-01  31.0   \n",
       "...               ...                   ...                 ...   ...   \n",
       "86374            Male                Closed          1966-08-17  57.0   \n",
       "86375            Male                Closed          1982-08-16  41.0   \n",
       "86376            Male                Closed          1978-01-01  45.0   \n",
       "86377            Male  Closed (Written Off)          1960-01-01  63.0   \n",
       "86378            Male                Closed          1980-01-01  43.0   \n",
       "\n",
       "              age_set     Loan Class  \n",
       "0         41-50 years  Less than 50K  \n",
       "1         41-50 years  Less than 50K  \n",
       "2         18-30 years  Less than 50K  \n",
       "3         31-40 years  Less than 50K  \n",
       "4         31-40 years  Less than 50K  \n",
       "...               ...            ...  \n",
       "86374  Above 50 years       51K-250K  \n",
       "86375     41-50 years       51K-250K  \n",
       "86376     41-50 years      251K-750K  \n",
       "86377  Above 50 years       51K-250K  \n",
       "86378     41-50 years       51K-250K  \n",
       "\n",
       "[86379 rows x 10 columns]"
      ]
     },
     "execution_count": 190,
     "metadata": {},
     "output_type": "execute_result"
    }
   ],
   "source": [
    "Product_sales.to_excel('Product_Sales.xlsx', index=False)\n",
    "pd.read_excel(\"Product_Sales.xlsx\")\n"
   ]
  }
 ],
 "metadata": {
  "kernelspec": {
   "display_name": "learn-env",
   "language": "python",
   "name": "learn-env"
  },
  "language_info": {
   "codemirror_mode": {
    "name": "ipython",
    "version": 3
   },
   "file_extension": ".py",
   "mimetype": "text/x-python",
   "name": "python",
   "nbconvert_exporter": "python",
   "pygments_lexer": "ipython3",
   "version": "3.8.5"
  }
 },
 "nbformat": 4,
 "nbformat_minor": 5
}
